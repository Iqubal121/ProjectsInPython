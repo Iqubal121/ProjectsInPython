{
  "cells": [
    {
      "cell_type": "code",
      "execution_count": null,
      "id": "8619ca22",
      "metadata": {
        "id": "8619ca22"
      },
      "outputs": [],
      "source": [
        "#Python?\n",
        "# It is high level, object oriented, general purpose, interpreted programming Language.\n",
        "# Python is developed by Guido Van Rossum in 1991.\n",
        "# Python is case sencetive. a------A \n",
        "\n",
        "#Machine only understand MAchine Language(Binary Language). (0,1).\n",
        "#0100101101101---------> Hello.\n",
        "# Interpreter is working like a translator to convert the high level language to Machine Level language \n",
        "#and Vice versa it'll execute the code line by line.\n",
        "\n",
        "# Compiler:- It'll also convert the high level code to machine level and vice versa,\n",
        "# But it'll execute the whole code execute at once.\n",
        "\n",
        "# Used for Python:\n",
        "# Data Science, ML(Machine Learning), AI(Artificial Intelligence)\n",
        "# Development Purpose,\n",
        "# Cloud And Devops,\n",
        "# Scientific Research.\n",
        "# Mathematical Operation.\n",
        "\n",
        "# ----------- \n",
        "\n",
        "# for execute:- shift+enter ---->  Exceute the code and move to the next line.\n",
        "# ctrl + enter----> Execute the code and stay in the same cell.\n"
      ]
    },
    {
      "cell_type": "code",
      "execution_count": null,
      "id": "06e2ef33",
      "metadata": {
        "id": "06e2ef33",
        "outputId": "1548370a-806c-4300-9bce-6d11e26099b6"
      },
      "outputs": [
        {
          "data": {
            "text/plain": [
              "52"
            ]
          },
          "execution_count": 2,
          "metadata": {},
          "output_type": "execute_result"
        }
      ],
      "source": [
        "12+40"
      ]
    },
    {
      "cell_type": "code",
      "execution_count": null,
      "id": "c2b35cb8",
      "metadata": {
        "id": "c2b35cb8",
        "outputId": "b9cb23af-2b6f-419c-c487-354825ae9d33"
      },
      "outputs": [
        {
          "data": {
            "text/plain": [
              "10"
            ]
          },
          "execution_count": 3,
          "metadata": {},
          "output_type": "execute_result"
        }
      ],
      "source": [
        "# Variables:- It's a container which is used to conatin some value.\n",
        "# syntax:- var_name = value,\n",
        "# a = 10;\n",
        "a = 10\n",
        "a"
      ]
    },
    {
      "cell_type": "code",
      "execution_count": null,
      "id": "0424b3cb",
      "metadata": {
        "id": "0424b3cb",
        "outputId": "a3c4ba61-5a45-4bf9-cc64-9481731d0fd3"
      },
      "outputs": [
        {
          "data": {
            "text/plain": [
              "10"
            ]
          },
          "execution_count": 4,
          "metadata": {},
          "output_type": "execute_result"
        }
      ],
      "source": [
        "# Two ways to define the variables:- \n",
        "# Single assigning:-\n",
        "# syntax:- var_name = value,\n",
        "a = 10\n",
        "a"
      ]
    },
    {
      "cell_type": "code",
      "execution_count": null,
      "id": "49cd518c",
      "metadata": {
        "id": "49cd518c"
      },
      "outputs": [],
      "source": [
        "# Multiple Assigning:- # syntax:- It is the way of writing the code\n",
        "# syntax:- var_name1,var2, var3,var4 = value1,value2,value3,value4\n",
        "a,b,c = -10,20,30 "
      ]
    },
    {
      "cell_type": "code",
      "execution_count": null,
      "id": "5943cb73",
      "metadata": {
        "id": "5943cb73"
      },
      "outputs": [],
      "source": [
        "a,b,c = 30, 40,43 #swapping"
      ]
    },
    {
      "cell_type": "code",
      "execution_count": null,
      "id": "48712cd9",
      "metadata": {
        "id": "48712cd9",
        "outputId": "481866ce-f429-48c7-d12a-13ded42c1a51"
      },
      "outputs": [
        {
          "data": {
            "text/plain": [
              "30"
            ]
          },
          "execution_count": 7,
          "metadata": {},
          "output_type": "execute_result"
        }
      ],
      "source": [
        "a"
      ]
    },
    {
      "cell_type": "code",
      "execution_count": null,
      "id": "22877c00",
      "metadata": {
        "id": "22877c00"
      },
      "outputs": [],
      "source": [
        "a,b,c = c,b,a # SWAPPING Operation:\n",
        "# a= c\n",
        "# b = a \n",
        "# c = b"
      ]
    },
    {
      "cell_type": "code",
      "execution_count": null,
      "id": "7973bca4",
      "metadata": {
        "id": "7973bca4",
        "outputId": "bf30ec81-ea0d-4081-f3b6-0cc73c40527c"
      },
      "outputs": [
        {
          "data": {
            "text/plain": [
              "43"
            ]
          },
          "execution_count": 9,
          "metadata": {},
          "output_type": "execute_result"
        }
      ],
      "source": [
        "a"
      ]
    },
    {
      "cell_type": "code",
      "execution_count": null,
      "id": "03eddb10",
      "metadata": {
        "id": "03eddb10",
        "outputId": "7fa4ca95-8763-4ab2-e5e3-3a5f37ad8135"
      },
      "outputs": [
        {
          "data": {
            "text/plain": [
              "40"
            ]
          },
          "execution_count": 10,
          "metadata": {},
          "output_type": "execute_result"
        }
      ],
      "source": [
        "b"
      ]
    },
    {
      "cell_type": "code",
      "execution_count": null,
      "id": "9bd79697",
      "metadata": {
        "id": "9bd79697",
        "outputId": "3557df13-841a-483f-f7e0-1462f63a6060"
      },
      "outputs": [
        {
          "data": {
            "text/plain": [
              "30"
            ]
          },
          "execution_count": 11,
          "metadata": {},
          "output_type": "execute_result"
        }
      ],
      "source": [
        "c"
      ]
    },
    {
      "cell_type": "code",
      "execution_count": null,
      "id": "2d0a3957",
      "metadata": {
        "id": "2d0a3957"
      },
      "outputs": [],
      "source": [
        "# Keywords:- It is the predefine word which is specific meaning to the system.\n",
        "# if, else, import, in , not, etc.\n",
        "if , in"
      ]
    },
    {
      "cell_type": "code",
      "execution_count": null,
      "id": "b589d176",
      "metadata": {
        "id": "b589d176"
      },
      "outputs": [],
      "source": [
        "# Identifier:- It's the name used to identify the variables, class, method, etc.\n",
        "# Note:- We can't use keyword as a identifier.\n",
        "a = 10\n",
        "imran = 1292\n",
        "acd = \"13334\"\n"
      ]
    },
    {
      "cell_type": "code",
      "execution_count": null,
      "id": "d070e5cc",
      "metadata": {
        "id": "d070e5cc"
      },
      "outputs": [],
      "source": [
        "# Literals:- \n",
        "# Literals is used to assign the raw value to the variables.\n",
        "# the value given to variable\n",
        "it = 123\n",
        "ip = \"iop\"\n"
      ]
    },
    {
      "cell_type": "code",
      "execution_count": null,
      "id": "cd30581b",
      "metadata": {
        "id": "cd30581b",
        "outputId": "af7d764b-5a94-44e2-f9cf-3d3ccaf25997"
      },
      "outputs": [
        {
          "data": {
            "text/plain": [
              "5"
            ]
          },
          "execution_count": 15,
          "metadata": {},
          "output_type": "execute_result"
        }
      ],
      "source": [
        "# Opeartors:- It is the special symbol which is used to perform some specific OpeaRION.\n",
        "# Arthematic Opeartors:- \n",
        "# +(add),(-)sub, (*) mul, /(div), %(Modulus), **(Exponent/Power).\n",
        "2+3"
      ]
    },
    {
      "cell_type": "code",
      "execution_count": null,
      "id": "dba30b1f",
      "metadata": {
        "id": "dba30b1f",
        "outputId": "d304532c-f61b-4f49-9ee6-871e39fae610"
      },
      "outputs": [
        {
          "data": {
            "text/plain": [
              "1"
            ]
          },
          "execution_count": 16,
          "metadata": {},
          "output_type": "execute_result"
        }
      ],
      "source": [
        "3-2"
      ]
    },
    {
      "cell_type": "code",
      "execution_count": null,
      "id": "f0387651",
      "metadata": {
        "id": "f0387651",
        "outputId": "727b5f3c-f5c1-4301-99e6-eaedb5cadedc"
      },
      "outputs": [
        {
          "data": {
            "text/plain": [
              "6"
            ]
          },
          "execution_count": 17,
          "metadata": {},
          "output_type": "execute_result"
        }
      ],
      "source": [
        "2*3"
      ]
    },
    {
      "cell_type": "code",
      "execution_count": null,
      "id": "484bd71e",
      "metadata": {
        "id": "484bd71e",
        "outputId": "8dc2d66e-5a02-46da-e08a-0099a7b1f7e3"
      },
      "outputs": [
        {
          "data": {
            "text/plain": [
              "3.0"
            ]
          },
          "execution_count": 18,
          "metadata": {},
          "output_type": "execute_result"
        }
      ],
      "source": [
        "6/2"
      ]
    },
    {
      "cell_type": "code",
      "execution_count": null,
      "id": "b638e0db",
      "metadata": {
        "id": "b638e0db",
        "outputId": "e5dea442-9da0-490c-e925-2f4f9e60f08c"
      },
      "outputs": [
        {
          "data": {
            "text/plain": [
              "0"
            ]
          },
          "execution_count": 19,
          "metadata": {},
          "output_type": "execute_result"
        }
      ],
      "source": [
        "# % (Modulus): It'll give us the remainder.\n",
        "10%2"
      ]
    },
    {
      "cell_type": "code",
      "execution_count": null,
      "id": "726ec04a",
      "metadata": {
        "id": "726ec04a",
        "outputId": "d5da32bd-0be8-45e2-d5f4-957efcea5e8f"
      },
      "outputs": [
        {
          "data": {
            "text/plain": [
              "2"
            ]
          },
          "execution_count": 21,
          "metadata": {},
          "output_type": "execute_result"
        }
      ],
      "source": [
        "11%3"
      ]
    },
    {
      "cell_type": "code",
      "execution_count": null,
      "id": "ed593eb2",
      "metadata": {
        "id": "ed593eb2",
        "outputId": "928bb225-6faf-4bd0-b991-cd8753b5b69a"
      },
      "outputs": [
        {
          "data": {
            "text/plain": [
              "64"
            ]
          },
          "execution_count": 24,
          "metadata": {},
          "output_type": "execute_result"
        }
      ],
      "source": [
        "# ** \n",
        "2**6"
      ]
    },
    {
      "cell_type": "code",
      "execution_count": null,
      "id": "2a7cb2a5",
      "metadata": {
        "id": "2a7cb2a5",
        "outputId": "e820356a-f0b1-4701-f266-81c9f07d655a"
      },
      "outputs": [
        {
          "data": {
            "text/plain": [
              "125"
            ]
          },
          "execution_count": 25,
          "metadata": {},
          "output_type": "execute_result"
        }
      ],
      "source": [
        "5**3"
      ]
    },
    {
      "cell_type": "code",
      "execution_count": null,
      "id": "84519fd9",
      "metadata": {
        "id": "84519fd9"
      },
      "outputs": [],
      "source": [
        "# Assignment Opeartor:- Used to the assign the value to the variables.\n",
        "# = (Assignment Operator)--->\n",
        "it = 10"
      ]
    },
    {
      "cell_type": "code",
      "execution_count": null,
      "id": "7eba6e0f",
      "metadata": {
        "id": "7eba6e0f"
      },
      "outputs": [],
      "source": [
        "# +=(add assignemnt)\n",
        "it += 1 # it = it+1"
      ]
    },
    {
      "cell_type": "code",
      "execution_count": null,
      "id": "79786b3f",
      "metadata": {
        "id": "79786b3f",
        "outputId": "8ba720a3-0ac3-4233-c23e-4340ca2387fa"
      },
      "outputs": [
        {
          "data": {
            "text/plain": [
              "11"
            ]
          },
          "execution_count": 43,
          "metadata": {},
          "output_type": "execute_result"
        }
      ],
      "source": [
        "it"
      ]
    },
    {
      "cell_type": "code",
      "execution_count": null,
      "id": "8803879d",
      "metadata": {
        "id": "8803879d",
        "outputId": "69158882-522c-48df-de30-637bb376e3ce"
      },
      "outputs": [
        {
          "data": {
            "text/plain": [
              "10"
            ]
          },
          "execution_count": 44,
          "metadata": {},
          "output_type": "execute_result"
        }
      ],
      "source": [
        "it -= 1 # it = it-1. it=11\n",
        "it"
      ]
    },
    {
      "cell_type": "code",
      "execution_count": null,
      "id": "76d1db97",
      "metadata": {
        "id": "76d1db97"
      },
      "outputs": [],
      "source": [
        "it *= 2 "
      ]
    },
    {
      "cell_type": "code",
      "execution_count": null,
      "id": "66164508",
      "metadata": {
        "id": "66164508",
        "outputId": "d7acb179-6600-4dd1-ade0-42bf878e3b61"
      },
      "outputs": [
        {
          "data": {
            "text/plain": [
              "20"
            ]
          },
          "execution_count": 46,
          "metadata": {},
          "output_type": "execute_result"
        }
      ],
      "source": [
        "it"
      ]
    },
    {
      "cell_type": "code",
      "execution_count": null,
      "id": "8e7176c7",
      "metadata": {
        "id": "8e7176c7"
      },
      "outputs": [],
      "source": [
        "# /= \n",
        "it /= 3 # it = it/3"
      ]
    },
    {
      "cell_type": "code",
      "execution_count": null,
      "id": "2d651bfd",
      "metadata": {
        "id": "2d651bfd",
        "outputId": "a1955697-7a4c-40ab-97d4-9968db668dec"
      },
      "outputs": [
        {
          "data": {
            "text/plain": [
              "6"
            ]
          },
          "execution_count": 48,
          "metadata": {},
          "output_type": "execute_result"
        }
      ],
      "source": [
        "int(it)"
      ]
    },
    {
      "cell_type": "code",
      "execution_count": null,
      "id": "66787a7d",
      "metadata": {
        "id": "66787a7d"
      },
      "outputs": [],
      "source": [
        "it %=2"
      ]
    },
    {
      "cell_type": "code",
      "execution_count": null,
      "id": "3cb5e9b3",
      "metadata": {
        "id": "3cb5e9b3",
        "outputId": "29b86b23-8b9f-4d32-bd27-8d1d7d534594"
      },
      "outputs": [
        {
          "data": {
            "text/plain": [
              "0.666666666666667"
            ]
          },
          "execution_count": 50,
          "metadata": {},
          "output_type": "execute_result"
        }
      ],
      "source": [
        "it"
      ]
    },
    {
      "cell_type": "code",
      "execution_count": null,
      "id": "2ea8c294",
      "metadata": {
        "id": "2ea8c294",
        "outputId": "b95fe5b7-ccd0-443c-b1e9-6c7f99d4016f"
      },
      "outputs": [
        {
          "data": {
            "text/plain": [
              "False"
            ]
          },
          "execution_count": 57,
          "metadata": {},
          "output_type": "execute_result"
        }
      ],
      "source": [
        "# Comparision Opeartor:- It is used to compare the values and retrun either true and false.\n",
        "# ==(equal to)---> The the value will be same then it'll return true else false.\n",
        "10 == 10 == 10.1"
      ]
    },
    {
      "cell_type": "code",
      "execution_count": null,
      "id": "5f76776b",
      "metadata": {
        "id": "5f76776b",
        "outputId": "73205d5a-e037-4d6e-b8ff-877a02fa1aca"
      },
      "outputs": [
        {
          "data": {
            "text/plain": [
              "True"
            ]
          },
          "execution_count": 58,
          "metadata": {},
          "output_type": "execute_result"
        }
      ],
      "source": [
        "# != (not equal to)---> if the value is not equal then it'll return true else false.\n",
        "10 != 19"
      ]
    },
    {
      "cell_type": "code",
      "execution_count": null,
      "id": "6fc6f3f8",
      "metadata": {
        "id": "6fc6f3f8",
        "outputId": "2c496fbf-9edc-424f-f0ae-661cb2db7c65"
      },
      "outputs": [
        {
          "data": {
            "text/plain": [
              "False"
            ]
          },
          "execution_count": 68,
          "metadata": {},
          "output_type": "execute_result"
        }
      ],
      "source": [
        "# > (Greater than)--> if the value is greater, then it'll return true else false.\n",
        "10 > 10"
      ]
    },
    {
      "cell_type": "code",
      "execution_count": null,
      "id": "77ecbaab",
      "metadata": {
        "id": "77ecbaab",
        "outputId": "7cb266a7-bd5a-435f-a030-0731801701ea"
      },
      "outputs": [
        {
          "data": {
            "text/plain": [
              "False"
            ]
          },
          "execution_count": 69,
          "metadata": {},
          "output_type": "execute_result"
        }
      ],
      "source": [
        "123 > 450/2 \n"
      ]
    },
    {
      "cell_type": "code",
      "execution_count": null,
      "id": "41c35710",
      "metadata": {
        "id": "41c35710",
        "outputId": "b06d02a9-8b80-4535-8afb-45a1b6b84e60"
      },
      "outputs": [
        {
          "data": {
            "text/plain": [
              "225.0"
            ]
          },
          "execution_count": 70,
          "metadata": {},
          "output_type": "execute_result"
        }
      ],
      "source": [
        "450/2"
      ]
    },
    {
      "cell_type": "code",
      "execution_count": null,
      "id": "0fcb205b",
      "metadata": {
        "id": "0fcb205b",
        "outputId": "c3bfe295-a11e-4783-ac01-99547b27c061"
      },
      "outputs": [
        {
          "data": {
            "text/plain": [
              "True"
            ]
          },
          "execution_count": 73,
          "metadata": {},
          "output_type": "execute_result"
        }
      ],
      "source": [
        "# >= (Greater than equal to)--> if the value is greater or equal, then it'll return true else false.\n",
        "10 >= 1"
      ]
    },
    {
      "cell_type": "code",
      "execution_count": null,
      "id": "716be676",
      "metadata": {
        "id": "716be676",
        "outputId": "6be156e7-0f73-4d04-f91f-4d78bfd752a7"
      },
      "outputs": [
        {
          "data": {
            "text/plain": [
              "False"
            ]
          },
          "execution_count": 75,
          "metadata": {},
          "output_type": "execute_result"
        }
      ],
      "source": [
        "# Less than(<)\n",
        "12 < 6/2"
      ]
    },
    {
      "cell_type": "code",
      "execution_count": null,
      "id": "4439f936",
      "metadata": {
        "id": "4439f936",
        "outputId": "22d8398f-6391-4e9a-8924-0074bbcb9855"
      },
      "outputs": [
        {
          "data": {
            "text/plain": [
              "True"
            ]
          },
          "execution_count": 80,
          "metadata": {},
          "output_type": "execute_result"
        }
      ],
      "source": [
        "# <= (Less than equal to): \n",
        "10 <= 16 >=13"
      ]
    },
    {
      "cell_type": "code",
      "execution_count": null,
      "id": "34f21a0b",
      "metadata": {
        "id": "34f21a0b",
        "outputId": "6a821c59-3c85-4200-faf2-981d1ab68372"
      },
      "outputs": [
        {
          "data": {
            "text/plain": [
              "False"
            ]
          },
          "execution_count": 81,
          "metadata": {},
          "output_type": "execute_result"
        }
      ],
      "source": [
        "# Logical Operator:- Used to combine the conditional statement, It's is used to check two conditional\n",
        "# expression. it'll return either true or false.\n",
        "#(13>13) (12>67)\n",
        "# and (Logical and):- IF the both the value is true then it'll return true, else false.\n",
        "(13>13) and (12>76)"
      ]
    },
    {
      "cell_type": "code",
      "execution_count": null,
      "id": "5531f354",
      "metadata": {
        "id": "5531f354",
        "outputId": "6f52a15e-04c9-40eb-bd79-e6b8c775d30d"
      },
      "outputs": [
        {
          "data": {
            "text/plain": [
              "True"
            ]
          },
          "execution_count": 82,
          "metadata": {},
          "output_type": "execute_result"
        }
      ],
      "source": [
        "(12>6) and (56>9)"
      ]
    },
    {
      "cell_type": "code",
      "execution_count": null,
      "id": "565cdf66",
      "metadata": {
        "id": "565cdf66",
        "outputId": "2a6d3121-d90f-42d0-d948-1a5b23aea7a5"
      },
      "outputs": [
        {
          "data": {
            "text/plain": [
              "False"
            ]
          },
          "execution_count": 83,
          "metadata": {},
          "output_type": "execute_result"
        }
      ],
      "source": [
        "(12>4) and (67>78)"
      ]
    },
    {
      "cell_type": "code",
      "execution_count": null,
      "id": "c0a249eb",
      "metadata": {
        "id": "c0a249eb",
        "outputId": "8d620796-41f2-41d3-ae7b-856c78f6edd3"
      },
      "outputs": [
        {
          "data": {
            "text/plain": [
              "True"
            ]
          },
          "execution_count": 84,
          "metadata": {},
          "output_type": "execute_result"
        }
      ],
      "source": [
        "# or(logical or):- Either one or both the expression is true, then it'll return true else false.\n",
        "(13>5) or (44>8)"
      ]
    },
    {
      "cell_type": "code",
      "execution_count": null,
      "id": "8e2f00d9",
      "metadata": {
        "id": "8e2f00d9",
        "outputId": "59c5db5a-1c49-45c6-92f8-14a33c708f41"
      },
      "outputs": [
        {
          "data": {
            "text/plain": [
              "True"
            ]
          },
          "execution_count": 85,
          "metadata": {},
          "output_type": "execute_result"
        }
      ],
      "source": [
        "(78<67) or (78>67)"
      ]
    },
    {
      "cell_type": "code",
      "execution_count": null,
      "id": "e697374c",
      "metadata": {
        "id": "e697374c",
        "outputId": "e9a00935-cb4e-4c03-aa83-a15bb257f004"
      },
      "outputs": [
        {
          "data": {
            "text/plain": [
              "False"
            ]
          },
          "execution_count": 86,
          "metadata": {},
          "output_type": "execute_result"
        }
      ],
      "source": [
        "(78<45) or (89<78)"
      ]
    },
    {
      "cell_type": "code",
      "execution_count": null,
      "id": "fded0c3b",
      "metadata": {
        "id": "fded0c3b",
        "outputId": "cdcf3039-2b5d-47f5-9275-9d27c33fddb8"
      },
      "outputs": [
        {
          "data": {
            "text/plain": [
              "False"
            ]
          },
          "execution_count": 87,
          "metadata": {},
          "output_type": "execute_result"
        }
      ],
      "source": [
        "# not (logical not):- It'll be the vice-versa, If the expression is true, then it'll retuen false.\n",
        "not (34>23)"
      ]
    },
    {
      "cell_type": "code",
      "execution_count": null,
      "id": "331a8f8e",
      "metadata": {
        "id": "331a8f8e",
        "outputId": "329dd3c9-6477-455f-aa4f-529c2e15fde5"
      },
      "outputs": [
        {
          "data": {
            "text/plain": [
              "True"
            ]
          },
          "execution_count": 89,
          "metadata": {},
          "output_type": "execute_result"
        }
      ],
      "source": [
        "not (34<6)"
      ]
    },
    {
      "cell_type": "code",
      "execution_count": null,
      "id": "ce43f2ab",
      "metadata": {
        "id": "ce43f2ab",
        "outputId": "3dfaf70d-d6a7-4676-b475-a44f4b79b6eb"
      },
      "outputs": [
        {
          "name": "stdout",
          "output_type": "stream",
          "text": [
            "True\n",
            "True\n"
          ]
        },
        {
          "name": "stderr",
          "output_type": "stream",
          "text": [
            "<>:3: SyntaxWarning: \"is\" with a literal. Did you mean \"==\"?\n",
            "<>:5: SyntaxWarning: \"is not\" with a literal. Did you mean \"!=\"?\n",
            "<>:3: SyntaxWarning: \"is\" with a literal. Did you mean \"==\"?\n",
            "<>:5: SyntaxWarning: \"is not\" with a literal. Did you mean \"!=\"?\n",
            "C:\\Users\\user\\AppData\\Local\\Temp/ipykernel_16884/928363103.py:3: SyntaxWarning: \"is\" with a literal. Did you mean \"==\"?\n",
            "  print(10 is 10)\n",
            "C:\\Users\\user\\AppData\\Local\\Temp/ipykernel_16884/928363103.py:5: SyntaxWarning: \"is not\" with a literal. Did you mean \"!=\"?\n",
            "  print(10 is not 11)\n"
          ]
        }
      ],
      "source": [
        "# Identify Operator:- It is used to chech if the object are same or not.\n",
        "# is--->\n",
        "print(10 is 10)\n",
        "# is not--->\n",
        "print(10 is not 11)\n"
      ]
    },
    {
      "cell_type": "code",
      "execution_count": null,
      "id": "71f3bec6",
      "metadata": {
        "id": "71f3bec6",
        "outputId": "0f633910-e51c-448e-cd0c-73c7649eac5d"
      },
      "outputs": [
        {
          "data": {
            "text/plain": [
              "True"
            ]
          },
          "execution_count": 97,
          "metadata": {},
          "output_type": "execute_result"
        }
      ],
      "source": [
        "# Membership Operator:-used to check specified valus is present in object or nor.\n",
        "# in  ---> return true, if value is present in string\n",
        "# not in----> return true, if value is not present in string.\n",
        "a = \"Imran\"\n",
        "\"m\" in a"
      ]
    },
    {
      "cell_type": "code",
      "execution_count": null,
      "id": "4aeb93f2",
      "metadata": {
        "id": "4aeb93f2",
        "outputId": "a6b49c77-9345-454c-b027-2f8b838cb4fd"
      },
      "outputs": [
        {
          "data": {
            "text/plain": [
              "False"
            ]
          },
          "execution_count": 98,
          "metadata": {},
          "output_type": "execute_result"
        }
      ],
      "source": [
        "\"i\" in a"
      ]
    },
    {
      "cell_type": "code",
      "execution_count": null,
      "id": "12b92bf1",
      "metadata": {
        "id": "12b92bf1",
        "outputId": "510004e8-8209-42dc-9856-b316b39de9e2"
      },
      "outputs": [
        {
          "data": {
            "text/plain": [
              "True"
            ]
          },
          "execution_count": 99,
          "metadata": {},
          "output_type": "execute_result"
        }
      ],
      "source": [
        "\"u\" not in a"
      ]
    },
    {
      "cell_type": "code",
      "execution_count": null,
      "id": "52277a8c",
      "metadata": {
        "id": "52277a8c"
      },
      "outputs": [],
      "source": [
        "######## Data Types----------- day 2----------------"
      ]
    },
    {
      "cell_type": "code",
      "execution_count": null,
      "id": "df9a181e",
      "metadata": {
        "id": "df9a181e"
      },
      "outputs": [],
      "source": [
        "# Data Types:- It is the types of data which we're giving/assigning to the variables.\n",
        "a = 10"
      ]
    },
    {
      "cell_type": "code",
      "execution_count": null,
      "id": "17b03797",
      "metadata": {
        "id": "17b03797",
        "outputId": "24e1751b-e80d-4abe-d11e-5851ba4153c0"
      },
      "outputs": [
        {
          "name": "stdout",
          "output_type": "stream",
          "text": [
            "<class 'int'>\n",
            "<class 'float'>\n"
          ]
        },
        {
          "data": {
            "text/plain": [
              "bool"
            ]
          },
          "execution_count": 7,
          "metadata": {},
          "output_type": "execute_result"
        }
      ],
      "source": [
        "# Types od DAtatypes:-\n",
        "# Immutables DataTypes/Unchangeable: not posssible to add/update element after the declaration.\n",
        "# Numerical:- \n",
        "# a. Integer: Whole number. there will no decimal into the number. It can be positive or negative.\n",
        "# eg: 10, 12, -9\n",
        "a = 18\n",
        "# type():- Used to check the datatype of the variables.\n",
        "print(type(a))\n",
        "# b. Float:- Always having decimal point in data. can be (+) or (-)\n",
        "# 123/8\n",
        "b = 12/9\n",
        "print(type(b))\n",
        "# Boolean:- There will be only two values, it might be True/False, 0/1, Yes/No.\n",
        "a = True\n",
        "type(a)\n",
        "\n",
        "# Mutable Datatypes/Chnageable"
      ]
    },
    {
      "cell_type": "code",
      "execution_count": null,
      "id": "00e770b2",
      "metadata": {
        "id": "00e770b2"
      },
      "outputs": [],
      "source": [
        "# String:- It can be sequence of character or might be a single character\n",
        "#but always inside the ''(Single Quotes) or \"\"(Double Quotes).\n",
        "a = '1234567890'"
      ]
    },
    {
      "cell_type": "code",
      "execution_count": null,
      "id": "807e42ba",
      "metadata": {
        "id": "807e42ba",
        "outputId": "bce5978a-aff3-4f43-9db0-a75222e188cb"
      },
      "outputs": [
        {
          "data": {
            "text/plain": [
              "str"
            ]
          },
          "execution_count": 9,
          "metadata": {},
          "output_type": "execute_result"
        }
      ],
      "source": [
        "type(a)"
      ]
    },
    {
      "cell_type": "code",
      "execution_count": null,
      "id": "ca9ffaad",
      "metadata": {
        "id": "ca9ffaad"
      },
      "outputs": [],
      "source": [
        "b = \"1234567890kljfgdsadrfghjkl;p'oiuytresdfcgvbhjnu8oy97tgyubjhilt7ori6dtujcvh,glr7o\""
      ]
    },
    {
      "cell_type": "code",
      "execution_count": null,
      "id": "5a658877",
      "metadata": {
        "id": "5a658877",
        "outputId": "dec1dbec-445d-4b7b-d3f0-39db1da3a3d5"
      },
      "outputs": [
        {
          "data": {
            "text/plain": [
              "str"
            ]
          },
          "execution_count": 11,
          "metadata": {},
          "output_type": "execute_result"
        }
      ],
      "source": [
        "type(b)"
      ]
    },
    {
      "cell_type": "code",
      "execution_count": null,
      "id": "c35923b1",
      "metadata": {
        "id": "c35923b1"
      },
      "outputs": [],
      "source": [
        "b = \"'12345678\"\"sdfghjk'\""
      ]
    },
    {
      "cell_type": "code",
      "execution_count": null,
      "id": "9d8510ca",
      "metadata": {
        "id": "9d8510ca",
        "outputId": "3634b174-0fa9-4365-88ed-2dec0b5eb103"
      },
      "outputs": [
        {
          "data": {
            "text/plain": [
              "'12345678sdfghjk'"
            ]
          },
          "execution_count": 13,
          "metadata": {},
          "output_type": "execute_result"
        }
      ],
      "source": [
        "b"
      ]
    },
    {
      "cell_type": "code",
      "execution_count": null,
      "id": "9c039e7d",
      "metadata": {
        "id": "9c039e7d"
      },
      "outputs": [],
      "source": [
        "b = '1234567',\"asdfghj\""
      ]
    },
    {
      "cell_type": "code",
      "execution_count": null,
      "id": "cb235ce7",
      "metadata": {
        "id": "cb235ce7",
        "outputId": "fbd808e9-2f9a-48a6-e79a-a65b50a8259a"
      },
      "outputs": [
        {
          "data": {
            "text/plain": [
              "tuple"
            ]
          },
          "execution_count": 21,
          "metadata": {},
          "output_type": "execute_result"
        }
      ],
      "source": [
        "type(b)"
      ]
    },
    {
      "cell_type": "code",
      "execution_count": null,
      "id": "7041c086",
      "metadata": {
        "id": "7041c086"
      },
      "outputs": [],
      "source": [
        "b ='\"asdfgjhkl\"'"
      ]
    },
    {
      "cell_type": "code",
      "execution_count": null,
      "id": "718faa8d",
      "metadata": {
        "id": "718faa8d",
        "outputId": "8e63fb2e-2256-4283-bd48-9bff97f16659"
      },
      "outputs": [
        {
          "data": {
            "text/plain": [
              "'\"asdfgjhkl\"'"
            ]
          },
          "execution_count": 18,
          "metadata": {},
          "output_type": "execute_result"
        }
      ],
      "source": [
        "b"
      ]
    },
    {
      "cell_type": "code",
      "execution_count": null,
      "id": "1cacd4fd",
      "metadata": {
        "id": "1cacd4fd",
        "outputId": "1d911352-73fa-44db-b1d5-0881f617e1f9"
      },
      "outputs": [
        {
          "data": {
            "text/plain": [
              "'i'"
            ]
          },
          "execution_count": 31,
          "metadata": {},
          "output_type": "execute_result"
        }
      ],
      "source": [
        "# Some basics operation of String:\n",
        "# Indexing:- Method for accessing the single element by the position of element.\n",
        "# It can be positive(Left to Right and always start with 0) \n",
        "#and Negative(Right to left).: It'll always start with -1\n",
        "a = \"Intellipaat\"\n",
        "\n",
        "# (#) hash ---> belongs to comment\n",
        "# syntax: strname[index_value]\n",
        "#-11                -2   -1 ----> Negative Indexing\n",
        "# I n t e l l i p a  a    t\n",
        "# 0 1 2 3 4 5 6 7 8  9   10 -----> positive indexing\n",
        "a[-5]"
      ]
    },
    {
      "cell_type": "code",
      "execution_count": null,
      "id": "265685a0",
      "metadata": {
        "id": "265685a0",
        "outputId": "a57d992d-e360-452c-bcdc-b823de926bae"
      },
      "outputs": [
        {
          "data": {
            "text/plain": [
              "'a'"
            ]
          },
          "execution_count": 23,
          "metadata": {},
          "output_type": "execute_result"
        }
      ],
      "source": [
        "a[8]"
      ]
    },
    {
      "cell_type": "code",
      "execution_count": null,
      "id": "2f55787e",
      "metadata": {
        "id": "2f55787e",
        "outputId": "11858259-b430-4db2-e341-dcf15008811d"
      },
      "outputs": [
        {
          "data": {
            "text/plain": [
              "'t'"
            ]
          },
          "execution_count": 24,
          "metadata": {},
          "output_type": "execute_result"
        }
      ],
      "source": [
        "a[-9]"
      ]
    },
    {
      "cell_type": "code",
      "execution_count": null,
      "id": "0a9bb8fb",
      "metadata": {
        "id": "0a9bb8fb"
      },
      "outputs": [],
      "source": [
        "#a[-1,-2]\n",
        "# a[-12]"
      ]
    },
    {
      "cell_type": "code",
      "execution_count": null,
      "id": "219b96f2",
      "metadata": {
        "id": "219b96f2",
        "outputId": "de10b0ed-1411-41ec-f83c-e137f08c235a"
      },
      "outputs": [
        {
          "data": {
            "text/plain": [
              "'Intel'"
            ]
          },
          "execution_count": 36,
          "metadata": {},
          "output_type": "execute_result"
        }
      ],
      "source": [
        "# Slicing:- Used for access sequence of the character. Positive indexing and negative indexing\n",
        "# syntax:- str[start_point : End Point] note:- End point will exclude, We've take more than 1 for the end\n",
        "\n",
        "#-11                -2   -1 ----> Negative Indexing\n",
        "# I n t e l l i p a  a    t\n",
        "# 0 1 2 3 4 5 6 7 8  9   10 -----> positive indexing\n",
        "\n",
        "a = \"Intellipaat\"\n",
        "a[0:4+1]"
      ]
    },
    {
      "cell_type": "code",
      "execution_count": null,
      "id": "3932ccc9",
      "metadata": {
        "id": "3932ccc9",
        "outputId": "c33890fe-73e8-4191-c589-14cf66ea55c7"
      },
      "outputs": [
        {
          "data": {
            "text/plain": [
              "'Intel'"
            ]
          },
          "execution_count": 37,
          "metadata": {},
          "output_type": "execute_result"
        }
      ],
      "source": [
        "a[0:5]"
      ]
    },
    {
      "cell_type": "code",
      "execution_count": null,
      "id": "8799ae74",
      "metadata": {
        "id": "8799ae74",
        "outputId": "3070d7cf-4c59-4c84-d996-d1f9bf6b6f2a"
      },
      "outputs": [
        {
          "data": {
            "text/plain": [
              "'llipaat'"
            ]
          },
          "execution_count": 44,
          "metadata": {},
          "output_type": "execute_result"
        }
      ],
      "source": [
        "a[-7:] # blank will take everything after the start\n"
      ]
    },
    {
      "cell_type": "code",
      "execution_count": null,
      "id": "a1952e3d",
      "metadata": {
        "id": "a1952e3d",
        "outputId": "919f91cc-2598-4846-802b-f336dd9a8dc4"
      },
      "outputs": [
        {
          "data": {
            "text/plain": [
              "'lipaat'"
            ]
          },
          "execution_count": 40,
          "metadata": {},
          "output_type": "execute_result"
        }
      ],
      "source": [
        "a[5:10+1]"
      ]
    },
    {
      "cell_type": "code",
      "execution_count": null,
      "id": "c39056ee",
      "metadata": {
        "id": "c39056ee",
        "outputId": "1c9ab575-aac0-4f8c-c849-09cf081e391b"
      },
      "outputs": [
        {
          "data": {
            "text/plain": [
              "'Intellipaat'"
            ]
          },
          "execution_count": 45,
          "metadata": {},
          "output_type": "execute_result"
        }
      ],
      "source": [
        "a[:] #everything "
      ]
    },
    {
      "cell_type": "code",
      "execution_count": null,
      "id": "27dc7a13",
      "metadata": {
        "id": "27dc7a13",
        "outputId": "e8ddb372-efc0-48c2-fdf6-532674b8fc6d"
      },
      "outputs": [
        {
          "data": {
            "text/plain": [
              "'Intellip'"
            ]
          },
          "execution_count": 46,
          "metadata": {},
          "output_type": "execute_result"
        }
      ],
      "source": [
        "a = \"Intellipaat\"\n",
        "# I n t e l l i p a  a    t\n",
        "# 0 1 2 3 4 5 6 7 8  9   10 \n",
        "a[:8] #It'll take everything before 8th index"
      ]
    },
    {
      "cell_type": "code",
      "execution_count": null,
      "id": "0bf7ad2c",
      "metadata": {
        "id": "0bf7ad2c",
        "outputId": "2f0019c2-726b-4477-90c9-594986ba5d00"
      },
      "outputs": [
        {
          "data": {
            "text/plain": [
              "'2468'"
            ]
          },
          "execution_count": 77,
          "metadata": {},
          "output_type": "execute_result"
        }
      ],
      "source": [
        "# Stepping:-\n",
        "a= \"123456789\"\n",
        "# syntax: str][start : End : Steps] \n",
        "a[1::2]"
      ]
    },
    {
      "cell_type": "code",
      "execution_count": null,
      "id": "7ef54d41",
      "metadata": {
        "id": "7ef54d41",
        "outputId": "bd956153-4825-4a4a-ac84-3b5a103420bd"
      },
      "outputs": [
        {
          "ename": "TypeError",
          "evalue": "'str' object does not support item assignment",
          "output_type": "error",
          "traceback": [
            "\u001b[1;31m---------------------------------------------------------------------------\u001b[0m",
            "\u001b[1;31mTypeError\u001b[0m                                 Traceback (most recent call last)",
            "\u001b[1;32m~\\AppData\\Local\\Temp/ipykernel_18256/2361790693.py\u001b[0m in \u001b[0;36m<module>\u001b[1;34m\u001b[0m\n\u001b[1;32m----> 1\u001b[1;33m \u001b[0ma\u001b[0m\u001b[1;33m[\u001b[0m\u001b[1;36m4\u001b[0m\u001b[1;33m]\u001b[0m \u001b[1;33m=\u001b[0m\u001b[1;36m9\u001b[0m\u001b[1;33m\u001b[0m\u001b[1;33m\u001b[0m\u001b[0m\n\u001b[0m",
            "\u001b[1;31mTypeError\u001b[0m: 'str' object does not support item assignment"
          ]
        }
      ],
      "source": [
        "#a[4] =9"
      ]
    },
    {
      "cell_type": "code",
      "execution_count": null,
      "id": "120fe467",
      "metadata": {
        "id": "120fe467",
        "outputId": "5551f668-6a55-45d5-8744-278d43e18b1e"
      },
      "outputs": [
        {
          "data": {
            "text/plain": [
              "'9'"
            ]
          },
          "execution_count": 61,
          "metadata": {},
          "output_type": "execute_result"
        }
      ],
      "source": [
        "a[-1::2]  \n"
      ]
    },
    {
      "cell_type": "code",
      "execution_count": null,
      "id": "72f1616c",
      "metadata": {
        "id": "72f1616c",
        "outputId": "489ff0f6-68fa-4d98-c1ff-6f87eb81b58c"
      },
      "outputs": [
        {
          "data": {
            "text/plain": [
              "'1'"
            ]
          },
          "execution_count": 56,
          "metadata": {},
          "output_type": "execute_result"
        }
      ],
      "source": [
        "a[2]"
      ]
    },
    {
      "cell_type": "code",
      "execution_count": null,
      "id": "49a71b95",
      "metadata": {
        "id": "49a71b95",
        "outputId": "e9e0741e-857b-4523-8b69-dad11198acf0"
      },
      "outputs": [
        {
          "data": {
            "text/plain": [
              "'1 2 3 4 '"
            ]
          },
          "execution_count": 55,
          "metadata": {},
          "output_type": "execute_result"
        }
      ],
      "source": []
    },
    {
      "cell_type": "code",
      "execution_count": null,
      "id": "501cf48a",
      "metadata": {
        "id": "501cf48a",
        "outputId": "86e62445-c93f-42b0-c953-30a63a14c7c7"
      },
      "outputs": [
        {
          "data": {
            "text/plain": [
              "'5'"
            ]
          },
          "execution_count": 57,
          "metadata": {},
          "output_type": "execute_result"
        }
      ],
      "source": [
        "a[-1::2]  \n"
      ]
    },
    {
      "cell_type": "code",
      "execution_count": null,
      "id": "58107d0a",
      "metadata": {
        "id": "58107d0a",
        "outputId": "9e1b2a88-cbe2-4165-cbde-bcf6010d5fbc"
      },
      "outputs": [
        {
          "data": {
            "text/plain": [
              "'987654321'"
            ]
          },
          "execution_count": 63,
          "metadata": {},
          "output_type": "execute_result"
        }
      ],
      "source": [
        "# for the reverse order.\n",
        "a[::-1] # for the reversing"
      ]
    },
    {
      "cell_type": "code",
      "execution_count": null,
      "id": "0674c196",
      "metadata": {
        "id": "0674c196",
        "outputId": "5a955ce1-7b8e-4359-c1f3-41b9abeec2aa"
      },
      "outputs": [
        {
          "data": {
            "text/plain": [
              "'97531'"
            ]
          },
          "execution_count": 68,
          "metadata": {},
          "output_type": "execute_result"
        }
      ],
      "source": [
        "a[::-2]\n"
      ]
    },
    {
      "cell_type": "code",
      "execution_count": null,
      "id": "ea5d37c1",
      "metadata": {
        "id": "ea5d37c1",
        "outputId": "b27637f3-4eda-4025-ed76-1f8a7e8180f1"
      },
      "outputs": [
        {
          "data": {
            "text/plain": [
              "'wertyu2345689'"
            ]
          },
          "execution_count": 70,
          "metadata": {},
          "output_type": "execute_result"
        }
      ],
      "source": [
        "# Concatenate(+)\n",
        "\"wertyu\"+\"2345689\""
      ]
    },
    {
      "cell_type": "code",
      "execution_count": null,
      "id": "e413ecb8",
      "metadata": {
        "id": "e413ecb8"
      },
      "outputs": [],
      "source": [
        "# Tuple:- It's a kind of data types which is used to store more than one element in\n",
        "# a single variable. Here you can store any kind of data.\n",
        "# identification: a =(1,2,3,5,6,8)---> might be inside the brackets and seperated by comma,\n",
        "# or a = 1,2,3,4,5,6\n",
        "a = (123456,\"Imram\",34567.56,True)"
      ]
    },
    {
      "cell_type": "code",
      "execution_count": null,
      "id": "11381b62",
      "metadata": {
        "id": "11381b62",
        "outputId": "38b219c5-92eb-4d12-c3df-2532f06added"
      },
      "outputs": [
        {
          "data": {
            "text/plain": [
              "tuple"
            ]
          },
          "execution_count": 72,
          "metadata": {},
          "output_type": "execute_result"
        }
      ],
      "source": [
        "type(a)"
      ]
    },
    {
      "cell_type": "code",
      "execution_count": null,
      "id": "34ed268d",
      "metadata": {
        "id": "34ed268d"
      },
      "outputs": [],
      "source": [
        "b = 1,2,3,\"Imran\",78.9,True,False,\"#4567i\""
      ]
    },
    {
      "cell_type": "code",
      "execution_count": null,
      "id": "54df1867",
      "metadata": {
        "id": "54df1867",
        "outputId": "39bd16f1-4e11-4394-d758-6e97f67f9477"
      },
      "outputs": [
        {
          "data": {
            "text/plain": [
              "tuple"
            ]
          },
          "execution_count": 74,
          "metadata": {},
          "output_type": "execute_result"
        }
      ],
      "source": [
        "type(b)"
      ]
    },
    {
      "cell_type": "code",
      "execution_count": null,
      "id": "e60840c8",
      "metadata": {
        "id": "e60840c8"
      },
      "outputs": [],
      "source": [
        "# why  is it immutable?\n",
        "#a[3] = 56"
      ]
    },
    {
      "cell_type": "code",
      "execution_count": null,
      "id": "3700af3d",
      "metadata": {
        "id": "3700af3d"
      },
      "outputs": [],
      "source": [
        "# All the operation will work from the string.\n",
        "b = 1,1,3,\"Imran\",78.9,True,False,\"#4567i\"\n",
        "#   0 1 2 3        4    5    6        7----> "
      ]
    },
    {
      "cell_type": "code",
      "execution_count": null,
      "id": "b8b7da51",
      "metadata": {
        "id": "b8b7da51",
        "outputId": "7afd544a-bb27-4287-f109-d42793e1d1cf"
      },
      "outputs": [
        {
          "data": {
            "text/plain": [
              "'#4567i'"
            ]
          },
          "execution_count": 82,
          "metadata": {},
          "output_type": "execute_result"
        }
      ],
      "source": [
        "b[7]"
      ]
    },
    {
      "cell_type": "code",
      "execution_count": null,
      "id": "714a44bf",
      "metadata": {
        "id": "714a44bf",
        "outputId": "e2591b8f-c8a1-4136-c734-609ae63af962"
      },
      "outputs": [
        {
          "data": {
            "text/plain": [
              "(2, 3, 'Imran', 78.9, True, False)"
            ]
          },
          "execution_count": 83,
          "metadata": {},
          "output_type": "execute_result"
        }
      ],
      "source": [
        "# Slicing:\n",
        "b[1:7]"
      ]
    },
    {
      "cell_type": "code",
      "execution_count": null,
      "id": "a5668810",
      "metadata": {
        "id": "a5668810",
        "outputId": "d7e445fd-3123-4d11-9211-a0de6d2afc31"
      },
      "outputs": [
        {
          "data": {
            "text/plain": [
              "(1, 3, 78.9, False)"
            ]
          },
          "execution_count": 84,
          "metadata": {},
          "output_type": "execute_result"
        }
      ],
      "source": [
        "# Stepping:- \n",
        "b[::2]"
      ]
    },
    {
      "cell_type": "code",
      "execution_count": null,
      "id": "a19aa130",
      "metadata": {
        "id": "a19aa130",
        "outputId": "60d5a42e-13d5-48f0-fbd0-db37d3175e32"
      },
      "outputs": [
        {
          "data": {
            "text/plain": [
              "('#4567i', False, True, 78.9, 'Imran', 3, 2, 1)"
            ]
          },
          "execution_count": 85,
          "metadata": {},
          "output_type": "execute_result"
        }
      ],
      "source": [
        "b[::-1]"
      ]
    },
    {
      "cell_type": "code",
      "execution_count": null,
      "id": "3ce527dc",
      "metadata": {
        "id": "3ce527dc"
      },
      "outputs": [],
      "source": [
        "#####"
      ]
    },
    {
      "cell_type": "code",
      "execution_count": null,
      "id": "6aa8e302",
      "metadata": {
        "id": "6aa8e302"
      },
      "outputs": [],
      "source": [
        "# Set: Unordered, imutable,it doesn't support duplicate values,\n",
        "# identification: set_name = {1,2,3,5}\n",
        "a = {1,2,3,5,6,8,5,6,8,9,4,2,8}"
      ]
    },
    {
      "cell_type": "code",
      "execution_count": null,
      "id": "315c7eec",
      "metadata": {
        "id": "315c7eec",
        "outputId": "b023de52-b76a-45bf-c37c-c98206f3bb46"
      },
      "outputs": [
        {
          "data": {
            "text/plain": [
              "{1, 2, 3, 4, 5, 6, 8, 9}"
            ]
          },
          "execution_count": 91,
          "metadata": {},
          "output_type": "execute_result"
        }
      ],
      "source": [
        "a"
      ]
    },
    {
      "cell_type": "code",
      "execution_count": null,
      "id": "21861e50",
      "metadata": {
        "id": "21861e50"
      },
      "outputs": [],
      "source": [
        "a = {1,0,False,True,0,1,True,False} # 0--->false, 1---->True"
      ]
    },
    {
      "cell_type": "code",
      "execution_count": null,
      "id": "51e995e7",
      "metadata": {
        "id": "51e995e7",
        "outputId": "0c3c8fd9-6c43-408e-c001-2513be7a3dec"
      },
      "outputs": [
        {
          "data": {
            "text/plain": [
              "{0, 1}"
            ]
          },
          "execution_count": 94,
          "metadata": {},
          "output_type": "execute_result"
        }
      ],
      "source": [
        "a"
      ]
    },
    {
      "cell_type": "code",
      "execution_count": null,
      "id": "63b54580",
      "metadata": {
        "id": "63b54580"
      },
      "outputs": [],
      "source": [
        "a = {False,1,True,0,1,False,True}"
      ]
    },
    {
      "cell_type": "code",
      "execution_count": null,
      "id": "b278f443",
      "metadata": {
        "id": "b278f443",
        "outputId": "f2dede64-0365-4350-b0c2-1059aea52c64"
      },
      "outputs": [
        {
          "data": {
            "text/plain": [
              "{False, 1}"
            ]
          },
          "execution_count": 96,
          "metadata": {},
          "output_type": "execute_result"
        }
      ],
      "source": [
        "a"
      ]
    },
    {
      "cell_type": "code",
      "execution_count": null,
      "id": "ec6273df",
      "metadata": {
        "id": "ec6273df"
      },
      "outputs": [],
      "source": [
        "# Mutable Data Types:- We'can chnage the data we'can update add delete the data from the list \n",
        "# List: It's same as Tuple, But it mutable.\n",
        "# identification of list: li_name = [1,2,3,4,65]---> inside the square brackets.\n",
        "li = [1.3,\"Imran\",\"ABC\",\"wert\",345,5,76,8,0,True]\n"
      ]
    },
    {
      "cell_type": "code",
      "execution_count": null,
      "id": "95bb2891",
      "metadata": {
        "id": "95bb2891",
        "outputId": "061ec533-31a5-4572-ca67-6301a6054ae4"
      },
      "outputs": [
        {
          "data": {
            "text/plain": [
              "list"
            ]
          },
          "execution_count": 139,
          "metadata": {},
          "output_type": "execute_result"
        }
      ],
      "source": [
        "type(li)"
      ]
    },
    {
      "cell_type": "code",
      "execution_count": null,
      "id": "2d77321c",
      "metadata": {
        "id": "2d77321c",
        "outputId": "ac1eae3e-d17d-4f84-c72e-7c9f6b95e1a2"
      },
      "outputs": [
        {
          "data": {
            "text/plain": [
              "'wert'"
            ]
          },
          "execution_count": 140,
          "metadata": {},
          "output_type": "execute_result"
        }
      ],
      "source": [
        "li[3]"
      ]
    },
    {
      "cell_type": "code",
      "execution_count": null,
      "id": "5326ea59",
      "metadata": {
        "id": "5326ea59",
        "outputId": "fd252f47-7047-4815-de6a-0e4b7e3584a0"
      },
      "outputs": [
        {
          "data": {
            "text/plain": [
              "['wert', 345, 5, 76, 8, 0, True]"
            ]
          },
          "execution_count": 141,
          "metadata": {},
          "output_type": "execute_result"
        }
      ],
      "source": [
        "li[3:]"
      ]
    },
    {
      "cell_type": "code",
      "execution_count": null,
      "id": "f0972e34",
      "metadata": {
        "id": "f0972e34",
        "outputId": "2460ad29-d2a9-4c9f-e171-ef469a29dd47"
      },
      "outputs": [
        {
          "data": {
            "text/plain": [
              "['Imran', 'wert', 5, 8, True]"
            ]
          },
          "execution_count": 142,
          "metadata": {},
          "output_type": "execute_result"
        }
      ],
      "source": [
        "li[1::2]"
      ]
    },
    {
      "cell_type": "code",
      "execution_count": null,
      "id": "306f7da7",
      "metadata": {
        "id": "306f7da7"
      },
      "outputs": [],
      "source": [
        "# Why this is mutable?\n",
        "li[3],li[5] = 35,\"Im\""
      ]
    },
    {
      "cell_type": "code",
      "execution_count": null,
      "id": "f33fddc3",
      "metadata": {
        "id": "f33fddc3",
        "outputId": "d646787b-cdb0-41af-d253-42594aa560c8"
      },
      "outputs": [
        {
          "data": {
            "text/plain": [
              "[1.3, 'Imran', 'ABC', 35, 345, 'Im', 76, 8, 0, True]"
            ]
          },
          "execution_count": 144,
          "metadata": {},
          "output_type": "execute_result"
        }
      ],
      "source": [
        "li"
      ]
    },
    {
      "cell_type": "code",
      "execution_count": null,
      "id": "3eb83ac1",
      "metadata": {
        "id": "3eb83ac1"
      },
      "outputs": [],
      "source": [
        "li[1:4] = [23,45]"
      ]
    },
    {
      "cell_type": "code",
      "execution_count": null,
      "id": "5f9a1b83",
      "metadata": {
        "id": "5f9a1b83",
        "outputId": "5cc2a2e4-d0c3-4fce-d16b-ae981d2579de"
      },
      "outputs": [
        {
          "data": {
            "text/plain": [
              "[1.3, 23, 45, 345, 'Im', 76, 8, 0, True]"
            ]
          },
          "execution_count": 146,
          "metadata": {},
          "output_type": "execute_result"
        }
      ],
      "source": [
        "li"
      ]
    },
    {
      "cell_type": "code",
      "execution_count": null,
      "id": "3eea335f",
      "metadata": {
        "id": "3eea335f"
      },
      "outputs": [],
      "source": [
        "# How we can add the element into the list.\n",
        "# append()---> used to add single element into the end of the list\n",
        "# list_name.append(Element)\n",
        "li.append(\"Intel\")"
      ]
    },
    {
      "cell_type": "code",
      "execution_count": null,
      "id": "10371784",
      "metadata": {
        "id": "10371784",
        "outputId": "ee9aadef-b2ce-4129-b30e-f4a614456080"
      },
      "outputs": [
        {
          "data": {
            "text/plain": [
              "[1.3, 23, 45, 345, 'Im', 76, 8, 0, True, 'Intel']"
            ]
          },
          "execution_count": 148,
          "metadata": {},
          "output_type": "execute_result"
        }
      ],
      "source": [
        "li"
      ]
    },
    {
      "cell_type": "code",
      "execution_count": null,
      "id": "07b7d2ae",
      "metadata": {
        "id": "07b7d2ae"
      },
      "outputs": [],
      "source": [
        "# extend():---> Used to add multiple element at the end of the list.\n",
        "#Syntax: li_name.extend([elements])\n",
        "li.extend([40,76])"
      ]
    },
    {
      "cell_type": "code",
      "execution_count": null,
      "id": "3c16baf7",
      "metadata": {
        "id": "3c16baf7",
        "outputId": "ca530e70-d358-433c-e168-4584881b544b"
      },
      "outputs": [
        {
          "data": {
            "text/plain": [
              "[1.3, 23, 45, 345, 'Im', 76, 8, 0, True, 'Intel', 40, 76]"
            ]
          },
          "execution_count": 150,
          "metadata": {},
          "output_type": "execute_result"
        }
      ],
      "source": [
        "li"
      ]
    },
    {
      "cell_type": "code",
      "execution_count": null,
      "id": "69d17b49",
      "metadata": {
        "id": "69d17b49"
      },
      "outputs": [],
      "source": [
        "# insert()---> it's used to add element into the particular index value.\n",
        "# syntax:- li_name.insert(index_value,Value)\n",
        "li.insert(3,4)"
      ]
    },
    {
      "cell_type": "code",
      "execution_count": null,
      "id": "4d707ccf",
      "metadata": {
        "id": "4d707ccf",
        "outputId": "da1ea907-1abd-41c2-fc90-0ca3480851e7"
      },
      "outputs": [
        {
          "data": {
            "text/plain": [
              "[1.3, 23, 45, 4, 345, 'Im', 76, 8, 0, True, 'Intel', 40, 76]"
            ]
          },
          "execution_count": 152,
          "metadata": {},
          "output_type": "execute_result"
        }
      ],
      "source": [
        "li"
      ]
    },
    {
      "cell_type": "code",
      "execution_count": null,
      "id": "18fb49a8",
      "metadata": {
        "id": "18fb49a8"
      },
      "outputs": [],
      "source": [
        "# How to delete the element from the list.\n",
        "# remove()---> delete the element by the value.\n",
        "# listname.remove(element)\n",
        "li.remove(345)"
      ]
    },
    {
      "cell_type": "code",
      "execution_count": null,
      "id": "63802784",
      "metadata": {
        "id": "63802784",
        "outputId": "17ad3d50-c6b1-48b4-945f-53dfaeb3b41d"
      },
      "outputs": [
        {
          "data": {
            "text/plain": [
              "[1.3, 23, 45, 4, 'Im', 76, 8, 0, True, 'Intel', 40, 76]"
            ]
          },
          "execution_count": 154,
          "metadata": {},
          "output_type": "execute_result"
        }
      ],
      "source": [
        "li"
      ]
    },
    {
      "cell_type": "code",
      "execution_count": null,
      "id": "7443d201",
      "metadata": {
        "id": "7443d201"
      },
      "outputs": [],
      "source": [
        "# pop()---> delete the element by the index value. \n",
        "# li_name.pop(index+value)"
      ]
    },
    {
      "cell_type": "code",
      "execution_count": null,
      "id": "f526f66b",
      "metadata": {
        "id": "f526f66b",
        "outputId": "775547b7-0965-4dca-d46c-449959b39c37"
      },
      "outputs": [
        {
          "data": {
            "text/plain": [
              "76"
            ]
          },
          "execution_count": 156,
          "metadata": {},
          "output_type": "execute_result"
        }
      ],
      "source": [
        "li.pop(5)"
      ]
    },
    {
      "cell_type": "code",
      "execution_count": null,
      "id": "4357191c",
      "metadata": {
        "id": "4357191c",
        "outputId": "aa0ea58e-84db-4d41-b404-b3f0fd4fe8cf"
      },
      "outputs": [
        {
          "data": {
            "text/plain": [
              "[1.3, 23, 45, 4, 'Im', 8, 0, True, 'Intel', 40, 76]"
            ]
          },
          "execution_count": 157,
          "metadata": {},
          "output_type": "execute_result"
        }
      ],
      "source": [
        "li"
      ]
    },
    {
      "cell_type": "code",
      "execution_count": null,
      "id": "e0eae476",
      "metadata": {
        "id": "e0eae476"
      },
      "outputs": [],
      "source": [
        "# clear()---> It'll delete everting form the list\n",
        "# list_name.clear()\n",
        "li.clear()\n"
      ]
    },
    {
      "cell_type": "code",
      "execution_count": null,
      "id": "e582b848",
      "metadata": {
        "id": "e582b848",
        "outputId": "69da89bc-be06-49eb-d6bd-df3570a869af"
      },
      "outputs": [
        {
          "data": {
            "text/plain": [
              "[]"
            ]
          },
          "execution_count": 135,
          "metadata": {},
          "output_type": "execute_result"
        }
      ],
      "source": [
        "li"
      ]
    },
    {
      "cell_type": "code",
      "execution_count": null,
      "id": "36834152",
      "metadata": {
        "id": "36834152",
        "outputId": "9063787d-0405-4f29-c425-18edc76aeb84"
      },
      "outputs": [
        {
          "ename": "NameError",
          "evalue": "name 'li' is not defined",
          "output_type": "error",
          "traceback": [
            "\u001b[1;31m---------------------------------------------------------------------------\u001b[0m",
            "\u001b[1;31mNameError\u001b[0m                                 Traceback (most recent call last)",
            "\u001b[1;32m~\\AppData\\Local\\Temp/ipykernel_18256/2135242300.py\u001b[0m in \u001b[0;36m<module>\u001b[1;34m\u001b[0m\n\u001b[0;32m      1\u001b[0m \u001b[1;31m# how to delete the list\u001b[0m\u001b[1;33m\u001b[0m\u001b[1;33m\u001b[0m\u001b[0m\n\u001b[0;32m      2\u001b[0m \u001b[1;31m# del list_name\u001b[0m\u001b[1;33m\u001b[0m\u001b[1;33m\u001b[0m\u001b[0m\n\u001b[1;32m----> 3\u001b[1;33m \u001b[1;32mdel\u001b[0m \u001b[0mli\u001b[0m\u001b[1;33m\u001b[0m\u001b[1;33m\u001b[0m\u001b[0m\n\u001b[0m",
            "\u001b[1;31mNameError\u001b[0m: name 'li' is not defined"
          ]
        }
      ],
      "source": [
        "# how to delete the list\n",
        "# del list_name\n",
        "del li"
      ]
    },
    {
      "cell_type": "code",
      "execution_count": null,
      "id": "0d7c3bfe",
      "metadata": {
        "id": "0d7c3bfe"
      },
      "outputs": [],
      "source": []
    },
    {
      "cell_type": "code",
      "execution_count": null,
      "id": "36cf4387",
      "metadata": {
        "id": "36cf4387"
      },
      "outputs": [],
      "source": [
        "# if i want to delete multiple element from the list:\n",
        "li = [1,3,34,5,6,8,\"5\",9,0,-9]"
      ]
    },
    {
      "cell_type": "code",
      "execution_count": null,
      "id": "90b5379c",
      "metadata": {
        "id": "90b5379c"
      },
      "outputs": [],
      "source": [
        "del li[::2]"
      ]
    },
    {
      "cell_type": "code",
      "execution_count": null,
      "id": "e466fe54",
      "metadata": {
        "id": "e466fe54",
        "outputId": "112d6ab7-4d59-4f5f-eeb0-38602010d77c"
      },
      "outputs": [
        {
          "data": {
            "text/plain": [
              "[3, 5, 8, 9, -9]"
            ]
          },
          "execution_count": 180,
          "metadata": {},
          "output_type": "execute_result"
        }
      ],
      "source": [
        "li"
      ]
    },
    {
      "cell_type": "code",
      "execution_count": null,
      "id": "e3b5dea5",
      "metadata": {
        "id": "e3b5dea5"
      },
      "outputs": [],
      "source": [
        "####### Dictionary:--- Element is devided into two parts. \n",
        "# 1st id for Key, and 2nd part is for values.\n",
        "# identification:- dict_name = {keys:value, keys1:value}"
      ]
    },
    {
      "cell_type": "code",
      "execution_count": null,
      "id": "7d6466dd",
      "metadata": {
        "id": "7d6466dd"
      },
      "outputs": [],
      "source": [
        "dict1 = {\"Name\": \"Imran\",\"Last\": \"Khan\",\"Age\":567, 86:\"$%^78\"}"
      ]
    },
    {
      "cell_type": "code",
      "execution_count": null,
      "id": "00316fd9",
      "metadata": {
        "id": "00316fd9",
        "outputId": "5b9008b1-c8b8-425f-eb71-923f3a4d9880"
      },
      "outputs": [
        {
          "data": {
            "text/plain": [
              "{'Name': 'Imran', 'Last': 'Khan', 'Age': 567, 86: '$%^78'}"
            ]
          },
          "execution_count": 185,
          "metadata": {},
          "output_type": "execute_result"
        }
      ],
      "source": [
        "dict1"
      ]
    },
    {
      "cell_type": "code",
      "execution_count": null,
      "id": "57516e29",
      "metadata": {
        "id": "57516e29"
      },
      "outputs": [],
      "source": [
        "# we can find the values and keys from the dictionary.\n",
        "# keys()---> find the keys.\n",
        "# dict_name.keys()\n",
        "# values()---> find the value\n",
        "# dict_name.values()"
      ]
    },
    {
      "cell_type": "code",
      "execution_count": null,
      "id": "436f4023",
      "metadata": {
        "id": "436f4023",
        "outputId": "9ccc7cb6-397d-495b-8516-829e1d17962d"
      },
      "outputs": [
        {
          "data": {
            "text/plain": [
              "dict_keys(['Name', 'Last', 'Age', 86])"
            ]
          },
          "execution_count": 188,
          "metadata": {},
          "output_type": "execute_result"
        }
      ],
      "source": [
        "dict1.keys()"
      ]
    },
    {
      "cell_type": "code",
      "execution_count": null,
      "id": "9355f799",
      "metadata": {
        "id": "9355f799",
        "outputId": "84b93680-f39d-4276-ca0b-e3e4df485068"
      },
      "outputs": [
        {
          "data": {
            "text/plain": [
              "dict_values(['Imran', 'Khan', 567, '$%^78'])"
            ]
          },
          "execution_count": 189,
          "metadata": {},
          "output_type": "execute_result"
        }
      ],
      "source": [
        "dict1.values()"
      ]
    },
    {
      "cell_type": "code",
      "execution_count": null,
      "id": "f957ec10",
      "metadata": {
        "id": "f957ec10"
      },
      "outputs": [],
      "source": [
        "# We can access by using the key value.\n",
        "dict1[\"Last\"] =\"Intellipaat\""
      ]
    },
    {
      "cell_type": "code",
      "execution_count": null,
      "id": "65c9a2d8",
      "metadata": {
        "id": "65c9a2d8",
        "outputId": "844a3dd1-cd31-44ad-df89-8e6391a6c54c"
      },
      "outputs": [
        {
          "data": {
            "text/plain": [
              "{'Name': 'Imran', 'Last': 'Intellipaat', 'Age': 567, 86: '$%^78'}"
            ]
          },
          "execution_count": 192,
          "metadata": {},
          "output_type": "execute_result"
        }
      ],
      "source": [
        "dict1"
      ]
    },
    {
      "cell_type": "code",
      "execution_count": null,
      "id": "9af9883b",
      "metadata": {
        "id": "9af9883b"
      },
      "outputs": [],
      "source": [
        "dict1[\"s\"] = 123456 # add element form the list"
      ]
    },
    {
      "cell_type": "code",
      "execution_count": null,
      "id": "81275cda",
      "metadata": {
        "id": "81275cda",
        "outputId": "62bc5330-3d8e-4563-9eea-bf56c3bb410c"
      },
      "outputs": [
        {
          "data": {
            "text/plain": [
              "{'Name': 'Imran', 'Last': 'Intellipaat', 'Age': 567, 86: '$%^78', 's': 123456}"
            ]
          },
          "execution_count": 199,
          "metadata": {},
          "output_type": "execute_result"
        }
      ],
      "source": [
        "dict1"
      ]
    },
    {
      "cell_type": "code",
      "execution_count": null,
      "id": "dabe7939",
      "metadata": {
        "id": "dabe7939"
      },
      "outputs": [],
      "source": [
        "# For delete \n",
        "# dict_name.pop(key_value)"
      ]
    },
    {
      "cell_type": "code",
      "execution_count": null,
      "id": "1302f16b",
      "metadata": {
        "id": "1302f16b",
        "outputId": "32c266e6-9a47-460f-a8d7-3f7f2aabfff8"
      },
      "outputs": [
        {
          "data": {
            "text/plain": [
              "567"
            ]
          },
          "execution_count": 201,
          "metadata": {},
          "output_type": "execute_result"
        }
      ],
      "source": [
        "dict1.pop(\"Age\")"
      ]
    },
    {
      "cell_type": "code",
      "execution_count": null,
      "id": "0de80cdd",
      "metadata": {
        "id": "0de80cdd",
        "outputId": "2c1705e8-30ea-4beb-a7c3-775773ca9258"
      },
      "outputs": [
        {
          "data": {
            "text/plain": [
              "{'Name': 'Imran', 'Last': 'Intellipaat', 86: '$%^78', 's': 123456}"
            ]
          },
          "execution_count": 202,
          "metadata": {},
          "output_type": "execute_result"
        }
      ],
      "source": [
        "dict1"
      ]
    },
    {
      "cell_type": "code",
      "execution_count": null,
      "id": "d80137ec",
      "metadata": {
        "id": "d80137ec"
      },
      "outputs": [],
      "source": [
        "del dict1[\"Name\"]"
      ]
    },
    {
      "cell_type": "code",
      "execution_count": null,
      "id": "3dc89384",
      "metadata": {
        "id": "3dc89384",
        "outputId": "9e3df1a3-5463-45c5-d25d-3b283b00dd7c"
      },
      "outputs": [
        {
          "data": {
            "text/plain": [
              "{'Last': 'Intellipaat', 86: '$%^78', 's': 123456}"
            ]
          },
          "execution_count": 205,
          "metadata": {},
          "output_type": "execute_result"
        }
      ],
      "source": [
        "dict1"
      ]
    },
    {
      "cell_type": "code",
      "execution_count": null,
      "id": "8b097df8",
      "metadata": {
        "id": "8b097df8"
      },
      "outputs": [],
      "source": []
    }
  ],
  "metadata": {
    "kernelspec": {
      "display_name": "Python 3 (ipykernel)",
      "language": "python",
      "name": "python3"
    },
    "language_info": {
      "codemirror_mode": {
        "name": "ipython",
        "version": 3
      },
      "file_extension": ".py",
      "mimetype": "text/x-python",
      "name": "python",
      "nbconvert_exporter": "python",
      "pygments_lexer": "ipython3",
      "version": "3.9.7"
    },
    "colab": {
      "provenance": []
    }
  },
  "nbformat": 4,
  "nbformat_minor": 5
}