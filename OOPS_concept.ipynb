{
  "nbformat": 4,
  "nbformat_minor": 0,
  "metadata": {
    "colab": {
      "provenance": []
    },
    "kernelspec": {
      "name": "python3",
      "display_name": "Python 3"
    },
    "language_info": {
      "name": "python"
    }
  },
  "cells": [
    {
      "cell_type": "code",
      "execution_count": null,
      "metadata": {
        "colab": {
          "base_uri": "https://localhost:8080/"
        },
        "id": "u1tQoB4AzWJG",
        "outputId": "61509c78-7100-4b8c-9e53-1f16f6df83f5"
      },
      "outputs": [
        {
          "output_type": "stream",
          "name": "stdout",
          "text": [
            "Age: 23 \n",
            " Name: Albert \n"
          ]
        }
      ],
      "source": [
        "# Object and class.\n",
        "# Syntax:-- for class --- class cls_name\n",
        "class Person:  # class --       \n",
        "    name = \"John\"      \n",
        "    age = 24  \n",
        "    name2 = \"Albert\"\n",
        "    age2 = 23\n",
        "    def display (self):    #def and ()---symbol of the function # for function ---> def  \n",
        "    # display will print the value of name and age:\n",
        "        print(\"Age: %d \\n Name: %s \"%(self.age2,self.name2))  ### class...\n",
        "\n",
        "# Creating a emp instance of Employee class    \n",
        "per = Person()    #objects   syntax---->   obj_name = class name \n",
        "per.display()     # (.)DOT operator is used to call the function:  "
      ]
    },
    {
      "cell_type": "code",
      "source": [
        "# data Encapsulation:\n",
        "\n",
        "# Creating a base class\n",
        "class Base:\n",
        "#self represents the instance of the class. By using the “self” keyword we can access the attributes and methods of the class in python.\n",
        "    def __init__(self):\n",
        " \n",
        "        # Protected member\n",
        "        self._a = 2\n",
        " \n",
        "# Creating a derived class\n",
        "class Derived(Base): # abstract base classes provide a blueprint for concrete classes. They don't contain implementation. Instead, \n",
        "#they provide an interface and make sure that derived concrete classes are properly implemented. Abstract base classes cannot be instantiated.\n",
        "    def __init__(self):\n",
        " \n",
        "        # Calling constructor of\n",
        "        # Base class\n",
        "        Base.__init__(self)\n",
        "        print(\"Calling protected member of base class: \",self._a)\n",
        " \n",
        "        # Modify the protected variable:\n",
        "        self._a = 3\n",
        "        print(\"Calling modified protected member outside class: \",\n",
        "              self._a)\n",
        " \n",
        " \n",
        "obj1 = Derived()\n",
        " \n",
        "obj2 = Base()\n",
        " \n",
        "# Calling protected member\n",
        "# Can be accessed but should not be done due to convention\n",
        "print(\"Accessing protedted member of obj1: \", obj1._a)\n",
        " \n",
        "# Accessing the protected variable outside\n",
        "print(\"Accessing protedted member of obj2: \", obj2._a)\n"
      ],
      "metadata": {
        "colab": {
          "base_uri": "https://localhost:8080/"
        },
        "id": "Ro_2dfE80JXw",
        "outputId": "c00cc8cb-c5a8-49b6-814f-79f592612925"
      },
      "execution_count": null,
      "outputs": [
        {
          "output_type": "stream",
          "name": "stdout",
          "text": [
            "Calling protected member of base class:  2\n",
            "Calling modified protected member outside class:  3\n",
            "Accessing protedted member of obj1:  3\n",
            "Accessing protedted member of obj2:  2\n"
          ]
        }
      ]
    },
    {
      "cell_type": "code",
      "source": [
        "class Ganesh:\n",
        "\tdef __init__(self):\n",
        "\t\tprint(\"I am a constructor\")\n",
        "\n",
        "object1 = Ganesh()"
      ],
      "metadata": {
        "colab": {
          "base_uri": "https://localhost:8080/"
        },
        "id": "2MElqVZnLhGC",
        "outputId": "3faed0f5-d28c-45fe-bc3a-d0f34f130b03"
      },
      "execution_count": null,
      "outputs": [
        {
          "output_type": "stream",
          "name": "stdout",
          "text": [
            "I am a constructor\n"
          ]
        }
      ]
    },
    {
      "cell_type": "code",
      "source": [
        "# OOPS (Object oriented programming Language): "
      ],
      "metadata": {
        "id": "ndOEFLjekBLQ"
      },
      "execution_count": null,
      "outputs": []
    },
    {
      "cell_type": "code",
      "source": [
        "# DAta Abstraction.\n",
        "\n",
        "# abstract base class work   \n",
        "from abc import ABC, abstractmethod   \n",
        "class Car(ABC):   \n",
        "    def mileage(self):   \n",
        "        pass  \n",
        "  \n",
        "class Tesla(Car):   \n",
        "    def mileage(self):   \n",
        "        print(\"Tesla, The mileage is 30kmph\")   \n",
        "\n",
        "class Suzuki(Car):   \n",
        "    def mileage(self):   \n",
        "        print(\"Suzuki, The mileage is 25kmph \")   \n",
        "\n",
        "class Duster(Car):   \n",
        "     def mileage(self):   \n",
        "          print(\"Duster, The mileage is 24kmph \")   \n",
        "  \n",
        "class Renault(Car):   \n",
        "    def mileage(self):   \n",
        "            print(\"Renault, The mileage is 27kmph \")   \n",
        "          \n",
        "# Driver code   \n",
        "t= Tesla ()   \n",
        "t.mileage()   \n",
        "  \n",
        "r = Renault()   \n",
        "r.mileage()   \n",
        "  \n",
        "s = Suzuki()   \n",
        "s.mileage()   \n",
        "d = Duster()   \n",
        "d.mileage()  "
      ],
      "metadata": {
        "colab": {
          "base_uri": "https://localhost:8080/"
        },
        "id": "9O6DJi5M1jo0",
        "outputId": "faedec2a-f539-4077-d0a6-b4b8d2d95683"
      },
      "execution_count": null,
      "outputs": [
        {
          "output_type": "stream",
          "name": "stdout",
          "text": [
            "Tesla, The mileage is 30kmph\n",
            "Renault, The mileage is 27kmph \n",
            "Suzuki, The mileage is 25kmph \n",
            "Duster, The mileage is 24kmph \n"
          ]
        }
      ]
    },
    {
      "cell_type": "code",
      "source": [
        "# Inheritance\n",
        "# Syntax:class derived-class(base class):  \n",
        "   # <class-suite>  \n",
        "class Animal:  \n",
        "    def speak(self):  \n",
        "        print(\"Animal Speaking\")  \n",
        "    def listen(self):\n",
        "      print(\"Animals can listen\")\n",
        "#child class Dog inherits the base class Animal  \n",
        "class Dog(Animal):  \n",
        "    def bark(self):  \n",
        "        print(\"dog barking\")  \n",
        "d = Dog()\n",
        "\n",
        "d.bark()  \n",
        "d.speak() \n",
        "d.listen() "
      ],
      "metadata": {
        "colab": {
          "base_uri": "https://localhost:8080/"
        },
        "id": "-AKO3GrS1puX",
        "outputId": "0a748be8-bbca-462e-e8a9-6e0bd8bbd1ba"
      },
      "execution_count": null,
      "outputs": [
        {
          "output_type": "stream",
          "name": "stdout",
          "text": [
            "dog barking\n",
            "Animal Speaking\n",
            "Animals can listen\n"
          ]
        }
      ]
    },
    {
      "cell_type": "code",
      "source": [
        "\n",
        "# A Python program to demonstrate inheritance \n",
        "  \n",
        "# Base or Super class. Note object in bracket.\n",
        "# (Generally, object is made ancestor of all classes)\n",
        "# In Python 3.x \"class Person\" is \n",
        "# equivalent to \"class Person(object)\"\n",
        "class Base(object):\n",
        "      \n",
        "    # Constructor\n",
        "    def __init__(self, name):\n",
        "        self.name = name\n",
        "  \n",
        "    # To get name\n",
        "    def getName(self):\n",
        "        return self.name\n",
        "  \n",
        "  \n",
        "# Inherited or Sub class (Note Person in bracket)\n",
        "class Child(Base):\n",
        "      \n",
        "    # Constructor\n",
        "    def __init__(self, name, age):\n",
        "        Base.__init__(self, name)\n",
        "        self.age = age\n",
        "  \n",
        "    # To get name\n",
        "    def getAge(self):\n",
        "        return self.age\n",
        "  \n",
        "# Inherited or Sub class (Note Person in bracket)\n",
        "class GrandChild(Child):\n",
        "      \n",
        "    # Constructor\n",
        "    def __init__(self, name, age, address):\n",
        "        Child.__init__(self, name, age)\n",
        "        self.address = address\n",
        "  \n",
        "    # To get address\n",
        "    def getAddress(self):\n",
        "        return self.address        \n",
        "  \n",
        "# Driver code\n",
        "g = GrandChild(\"Geek1\", 23, \"Noida\")  \n",
        "print(g.getName(), g.getAge(), g.getAddress())"
      ],
      "metadata": {
        "colab": {
          "base_uri": "https://localhost:8080/"
        },
        "id": "49ZfUzt_2JUL",
        "outputId": "04d23b95-511d-4222-df6b-a45f84519ec2"
      },
      "execution_count": null,
      "outputs": [
        {
          "output_type": "stream",
          "name": "stdout",
          "text": [
            "Geek1 23 Noida\n"
          ]
        }
      ]
    },
    {
      "cell_type": "code",
      "source": [
        "#The __init__ function is called every time an object is created from a class.\n",
        "# The __init__ method lets the class initialize the object's attributes and serves no other purpose. It is only used within classes.\n",
        "\n",
        "# A Sample class with init method  \n",
        "class Person:  \n",
        "      \n",
        "    # init method or constructor  # defult ,person() . Parameterized, person(name, age, Address)\n",
        "    def __init__(self, name):  \n",
        "        self.name = name  \n",
        "      \n",
        "    # Sample Method   \n",
        "    def say_hi(self):  \n",
        "        print('Hello, my name is', self.name)  \n",
        "  \n",
        "# Creating different objects     \n",
        "p1 = Person('Nikhil')  \n",
        "p2 = Person('Abhinav')\n",
        "p3 = Person('Anshul')\n",
        "  \n",
        "p1.say_hi()  \n",
        "p2.say_hi()\n",
        "p3.say_hi()"
      ],
      "metadata": {
        "colab": {
          "base_uri": "https://localhost:8080/"
        },
        "id": "lUPDD_A423qj",
        "outputId": "d3a29ae8-e419-4e32-8d35-bf0c349cf7e2"
      },
      "execution_count": null,
      "outputs": [
        {
          "output_type": "stream",
          "name": "stdout",
          "text": [
            "Hello, my name is Nikhil\n",
            "Hello, my name is Abhinav\n",
            "Hello, my name is Anshul\n"
          ]
        }
      ]
    },
    {
      "cell_type": "code",
      "source": [
        "#Polymorphism\n",
        "class India():\n",
        "    def capital(self):\n",
        "        print(\"New Delhi is the capital of India.\")\n",
        " \n",
        "    def language(self):\n",
        "        print(\"Hindi is the most widely spoken language of India.\")\n",
        " \n",
        "    def type(self):\n",
        "        print(\"India is a developing country.\")\n",
        " \n",
        "class USA():\n",
        "    def capital(self):\n",
        "        print(\"Washington, D.C. is the capital of USA.\")\n",
        " \n",
        "    def language(self):\n",
        "        print(\"English is the primary language of USA.\")\n",
        " \n",
        "    def type(self):\n",
        "        print(\"USA is a developed country.\")\n",
        " \n",
        "obj_ind = India()\n",
        "obj_usa = USA()\n",
        "for country in (obj_ind, obj_usa):\n",
        "    country.capital()\n",
        "    country.language()\n",
        "    country.type()"
      ],
      "metadata": {
        "colab": {
          "base_uri": "https://localhost:8080/"
        },
        "id": "fEI1ZwaL3a2p",
        "outputId": "9875899a-ffea-4c1e-9859-d6eb4a3b165d"
      },
      "execution_count": null,
      "outputs": [
        {
          "output_type": "stream",
          "name": "stdout",
          "text": [
            "New Delhi is the capital of India.\n",
            "Hindi is the most widely spoken language of India.\n",
            "India is a developing country.\n",
            "Washington, D.C. is the capital of USA.\n",
            "English is the primary language of USA.\n",
            "USA is a developed country.\n"
          ]
        }
      ]
    },
    {
      "cell_type": "code",
      "source": [
        "# OOps(Object oriented programming Language):\n",
        "# Basic concept of oops\n",
        "# 1. Objects: real world entity.\n",
        "# 2. Class: Blue print of the object:\n",
        "# 3. Data Encapsulation: wrap the objects and functions in a class.\n",
        "# 4. Data Abstraction: Hide the internal details and just show the external output.\n",
        "# 5. Inhertance:-  1. Parent class....2. Child class.\n",
        " #a. Single level: 1.parents-------1.child.\n",
        " #b. Multi level:  1.parnet--------many childs.\n",
        " #c. Multiple : many parents-----------single child\n",
        "# d. Herarchial\n",
        " #e. Hybrid:\n",
        "#6. Polymorphism: Many forms:\n",
        "#7. Dynamic Binding:- (linking at the runtime)\n",
        "#8. Message Communication: "
      ],
      "metadata": {
        "id": "oj6w-RI234so"
      },
      "execution_count": null,
      "outputs": []
    }
  ]
}